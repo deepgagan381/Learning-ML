{
 "cells": [
  {
   "cell_type": "code",
   "execution_count": 20,
   "metadata": {},
   "outputs": [],
   "source": [
    "import numpy as np\n",
    "import pandas as pd\n",
    "from sklearn.datasets import load_iris"
   ]
  },
  {
   "cell_type": "code",
   "execution_count": 21,
   "metadata": {},
   "outputs": [
    {
     "data": {
      "text/plain": [
       "['DESCR',\n",
       " 'data',\n",
       " 'data_module',\n",
       " 'feature_names',\n",
       " 'filename',\n",
       " 'frame',\n",
       " 'target',\n",
       " 'target_names']"
      ]
     },
     "execution_count": 21,
     "metadata": {},
     "output_type": "execute_result"
    }
   ],
   "source": [
    "iris = load_iris()\n",
    "dir(iris)"
   ]
  },
  {
   "cell_type": "code",
   "execution_count": 22,
   "metadata": {},
   "outputs": [],
   "source": [
    "def print_accuracy(model, x_train, x_test, y_train, y_test):\n",
    "    model.fit(x_train, y_train)\n",
    "    return 100*model.score(x_test,y_test)"
   ]
  },
  {
   "cell_type": "code",
   "execution_count": 23,
   "metadata": {},
   "outputs": [],
   "source": [
    "from sklearn.linear_model import LogisticRegression\n",
    "from sklearn.tree import DecisionTreeClassifier\n",
    "from sklearn.svm import SVC\n",
    "from sklearn.ensemble import RandomForestClassifier"
   ]
  },
  {
   "cell_type": "code",
   "execution_count": 24,
   "metadata": {},
   "outputs": [],
   "source": [
    "from sklearn.model_selection import StratifiedKFold\n",
    "skfold = StratifiedKFold(n_splits=4, shuffle=True)\n",
    "lr_score=[]\n",
    "dt_score=[]\n",
    "svc_score=[]\n",
    "rf_score=[]\n",
    "\n",
    "for train_index, test_index in skfold.split(iris.data, iris.target):\n",
    "    x_train,x_test, y_train,y_test=iris.data[train_index],iris.data[test_index],iris.target[train_index], iris.target[test_index]\n",
    "    lr_score.append(print_accuracy(LogisticRegression(max_iter=10000, solver='liblinear'),x_train, x_test, y_train, y_test))\n",
    "    dt_score.append(print_accuracy(DecisionTreeClassifier(),x_train, x_test, y_train, y_test))\n",
    "    svc_score.append(print_accuracy(SVC(),x_train, x_test, y_train, y_test))\n",
    "    rf_score.append(print_accuracy(RandomForestClassifier(n_estimators=10),x_train, x_test, y_train, y_test))"
   ]
  },
  {
   "cell_type": "code",
   "execution_count": 25,
   "metadata": {},
   "outputs": [
    {
     "data": {
      "text/plain": [
       "94.63015647226173"
      ]
     },
     "execution_count": 25,
     "metadata": {},
     "output_type": "execute_result"
    }
   ],
   "source": [
    "np.average(lr_score)"
   ]
  },
  {
   "cell_type": "code",
   "execution_count": 26,
   "metadata": {},
   "outputs": [
    {
     "data": {
      "text/plain": [
       "95.98150782361307"
      ]
     },
     "execution_count": 26,
     "metadata": {},
     "output_type": "execute_result"
    }
   ],
   "source": [
    "np.average(dt_score)"
   ]
  },
  {
   "cell_type": "code",
   "execution_count": 27,
   "metadata": {},
   "outputs": [
    {
     "data": {
      "text/plain": [
       "96.65718349928875"
      ]
     },
     "execution_count": 27,
     "metadata": {},
     "output_type": "execute_result"
    }
   ],
   "source": [
    "np.average(svc_score)"
   ]
  },
  {
   "cell_type": "code",
   "execution_count": 28,
   "metadata": {},
   "outputs": [
    {
     "data": {
      "text/plain": [
       "94.63015647226175"
      ]
     },
     "execution_count": 28,
     "metadata": {},
     "output_type": "execute_result"
    }
   ],
   "source": [
    "np.average(rf_score)"
   ]
  },
  {
   "cell_type": "code",
   "execution_count": 31,
   "metadata": {},
   "outputs": [
    {
     "name": "stdout",
     "output_type": "stream",
     "text": [
      "[100.          94.73684211  86.48648649 100.        ] 95.30583214793741\n",
      "[ 97.36842105  94.73684211  94.59459459 100.        ] 96.67496443812233\n",
      "[ 97.36842105 100.          94.59459459  97.2972973 ] 97.31507823613086\n",
      "[97.36842105 94.73684211 94.59459459 97.2972973 ] 95.99928876244665\n"
     ]
    }
   ],
   "source": [
    "from sklearn.model_selection import cross_val_score\n",
    "s1=cross_val_score(LogisticRegression(max_iter=10000, solver='liblinear'),iris.data, iris.target,cv=4)*100\n",
    "print(s1, np.average(s1))\n",
    "s2=cross_val_score(DecisionTreeClassifier(),iris.data, iris.target,cv=4)*100\n",
    "print(s2, np.average(s2))\n",
    "s3=cross_val_score(SVC(),iris.data, iris.target,cv=4)*100\n",
    "print(s3, np.average(s3))\n",
    "s4=cross_val_score(RandomForestClassifier(n_estimators=10),iris.data, iris.target,cv=4)*100\n",
    "print(s4, np.average(s4))"
   ]
  },
  {
   "cell_type": "code",
   "execution_count": 33,
   "metadata": {},
   "outputs": [
    {
     "name": "stdout",
     "output_type": "stream",
     "text": [
      "n_estimator: 2, accuracy: 96.0\n",
      "n_estimator: 4, accuracy: 94.66666666666667\n",
      "n_estimator: 6, accuracy: 95.33333333333333\n",
      "n_estimator: 8, accuracy: 95.33333333333333\n",
      "n_estimator: 10, accuracy: 94.66666666666667\n",
      "n_estimator: 12, accuracy: 95.33333333333333\n",
      "n_estimator: 14, accuracy: 95.33333333333333\n",
      "n_estimator: 16, accuracy: 96.66666666666667\n",
      "n_estimator: 18, accuracy: 96.0\n",
      "n_estimator: 20, accuracy: 96.0\n",
      "n_estimator: 22, accuracy: 95.33333333333333\n",
      "n_estimator: 24, accuracy: 96.66666666666667\n",
      "n_estimator: 26, accuracy: 96.0\n",
      "n_estimator: 28, accuracy: 96.66666666666667\n",
      "n_estimator: 30, accuracy: 96.0\n",
      "n_estimator: 32, accuracy: 95.33333333333333\n",
      "n_estimator: 34, accuracy: 95.33333333333333\n",
      "n_estimator: 36, accuracy: 96.66666666666667\n",
      "n_estimator: 38, accuracy: 95.33333333333333\n",
      "n_estimator: 40, accuracy: 94.66666666666667\n",
      "n_estimator: 42, accuracy: 96.0\n",
      "n_estimator: 44, accuracy: 96.0\n",
      "n_estimator: 46, accuracy: 96.0\n",
      "n_estimator: 48, accuracy: 96.0\n",
      "n_estimator: 50, accuracy: 96.66666666666667\n"
     ]
    }
   ],
   "source": [
    "for i in range(1,26):\n",
    "    s1 = cross_val_score(RandomForestClassifier(n_estimators=2*i),iris.data,iris.target,cv=3)*100\n",
    "    score = np.average(s1)\n",
    "    print(\"n_estimator: {}, accuracy: {}\".format(2*i, score))\n",
    "    "
   ]
  },
  {
   "cell_type": "code",
   "execution_count": null,
   "metadata": {},
   "outputs": [],
   "source": []
  }
 ],
 "metadata": {
  "kernelspec": {
   "display_name": "Python 3.9.0 64-bit",
   "language": "python",
   "name": "python3"
  },
  "language_info": {
   "codemirror_mode": {
    "name": "ipython",
    "version": 3
   },
   "file_extension": ".py",
   "mimetype": "text/x-python",
   "name": "python",
   "nbconvert_exporter": "python",
   "pygments_lexer": "ipython3",
   "version": "3.9.0"
  },
  "orig_nbformat": 4,
  "vscode": {
   "interpreter": {
    "hash": "5b3baee9e35d4db22f6d5a2f20af5cc213f37b770f0c2f6a6a9db9c386166091"
   }
  }
 },
 "nbformat": 4,
 "nbformat_minor": 2
}
